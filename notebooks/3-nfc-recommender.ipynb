{
 "nbformat": 4,
 "nbformat_minor": 0,
 "metadata": {
  "colab": {
   "provenance": [],
   "toc_visible": true,
   "gpuType": "T4"
  },
  "kernelspec": {
   "name": "python3",
   "language": "python",
   "display_name": "Python 3 (ipykernel)"
  },
  "language_info": {
   "name": "python"
  },
  "accelerator": "GPU",
  "gpuClass": "standard"
 },
 "cells": [
  {
   "cell_type": "markdown",
   "source": [
    "# Neural Collaborative Filtering Model\n",
    "\n",
    "In this notebook I will solve the second problem from my idea: Predict ratings for those films that \"similar\" users rated above 3 and already from these predictions give recommendations for viewing.\n",
    "Neural Collaborative Filtering is well suited for such purposes, with its help we will give recommendations to the user based on the films that he and other users have watched."
   ],
   "metadata": {
    "collapsed": false
   }
  },
  {
   "cell_type": "code",
   "execution_count": 2,
   "outputs": [
    {
     "name": "stdout",
     "output_type": "stream",
     "text": [
      "WARNING:tensorflow:From D:\\innopolis\\PMLDL\\movies\\lib\\site-packages\\keras\\src\\losses.py:2976: The name tf.losses.sparse_softmax_cross_entropy is deprecated. Please use tf.compat.v1.losses.sparse_softmax_cross_entropy instead.\n"
     ]
    }
   ],
   "source": [
    "import numpy as np\n",
    "import pandas as pd\n",
    "import matplotlib.pyplot as plt\n",
    "from keras.callbacks import ModelCheckpoint\n",
    "from keras.models import Model\n",
    "from keras.layers import Embedding, Flatten, Input, Dense, Dropout, BatchNormalization, concatenate, dot\n",
    "from keras.optimizers import Adam\n",
    "from sklearn.model_selection import train_test_split\n",
    "import json\n",
    "from keras.models import load_model\n",
    "from sklearn.metrics import average_precision_score, ndcg_score"
   ],
   "metadata": {
    "collapsed": false,
    "ExecuteTime": {
     "end_time": "2023-12-02T08:34:28.522852600Z",
     "start_time": "2023-12-02T08:34:16.812141Z"
    }
   }
  },
  {
   "cell_type": "code",
   "source": [
    "u_cols = ['userId', 'movieId', 'rating','timestamp']\n",
    "rating_df = pd.read_csv(\"../data/raw/rating.csv\", index_col=0)"
   ],
   "metadata": {
    "id": "kyo1EHA1pvvh",
    "ExecuteTime": {
     "end_time": "2023-12-02T08:34:28.619691Z",
     "start_time": "2023-12-02T08:34:28.528961600Z"
    }
   },
   "execution_count": 3,
   "outputs": []
  },
  {
   "cell_type": "code",
   "source": [
    "user_Ids = rating_df[\"userId\"].unique()\n",
    "num_users = len(user_Ids)+1\n",
    "movie_Ids = rating_df[\"movieId\"].unique()\n",
    "num_movies = len(movie_Ids)+1"
   ],
   "metadata": {
    "colab": {
     "base_uri": "https://localhost:8080/"
    },
    "id": "GaIw_bz7wh1c",
    "outputId": "99d878c2-3f78-46be-f6a0-7bc224c7aaa2",
    "ExecuteTime": {
     "end_time": "2023-12-02T08:34:28.635436Z",
     "start_time": "2023-12-02T08:34:28.625258900Z"
    }
   },
   "execution_count": 4,
   "outputs": []
  },
  {
   "cell_type": "markdown",
   "source": [
    "To begin with, let's divide our dataset into test, train, validate sets"
   ],
   "metadata": {
    "collapsed": false
   }
  },
  {
   "cell_type": "code",
   "source": [
    "train_temp, test = train_test_split(rating_df, test_size=0.2, random_state=42)\n",
    "train, validation = train_test_split(train_temp, test_size=0.2, random_state=42)\n",
    "test.to_csv(\"../benchmark/data/evaluate.csv\")"
   ],
   "metadata": {
    "id": "b-fFjFMC0SWC",
    "ExecuteTime": {
     "end_time": "2023-12-02T08:34:28.716850300Z",
     "start_time": "2023-12-02T08:34:28.640941900Z"
    }
   },
   "execution_count": 5,
   "outputs": []
  },
  {
   "cell_type": "markdown",
   "source": [
    "## Model Architecture \n",
    "\n",
    "Neural Collaborative Filtering replaces the user-item inner product with a neural architecture.\n",
    "\n",
    "![NFC_model_arch](https://miro.medium.com/v2/resize:fit:1100/format:webp/1*aP-Mx266ExwoWZPSdHtYpA.png)\n",
    "\n",
    "Here's a brief overview of the architecture:\n",
    "\n",
    "Input Layer:\n",
    "* Two separate input layers for user and movie, each of size 1, representing user and movie indices.\n",
    "\n",
    "Embedding Layers:\n",
    "* Embedding layers for both user and movie, which transform the input indices into dense vectors of a specified size (embedding size).\n",
    "* The embeddings capture latent factors for users and movies.\n",
    "\n",
    "MLP Component:\n",
    "* The embedded user and movie vectors are fed into separate Multi-Layer Perceptrons (MLPs).\n",
    "* The output of each MLP is flattened to create vectors of fixed size.\n",
    "* These vectors are concatenated to form a single vector.\n",
    "\n",
    "Matrix Factorization Component:\n",
    "* Another set of embedding layers for user and movie indices are used to create latent factor vectors.\n",
    "* The dot product of the user and movie latent factor vectors is taken.\n",
    "\n",
    "Concatenation and Fusion:\n",
    "* The output vectors from the MLP and the dot product from the matrix factorization are concatenated.\n",
    "* This combination aims to capture both the non-linear interactions and the latent factors.\n",
    "\n",
    "Fully Connected Layers:\n",
    "* The concatenated vector is passed through fully connected layers with batch normalization and dropout for regularization.\n",
    "* This helps the model learn complex representations and prevent overfitting.\n",
    "\n",
    "Output Layer:\n",
    "* The final output layer with a single neuron and linear activation function is used to predict the rating or preference value.\n",
    "\n",
    "Loss and Optimization:\n",
    "* The model is trained using the mean squared error loss, commonly used for regression tasks.\n",
    "* Adam optimizer with a specified learning rate is employed to minimize the loss during training.\n"
   ],
   "metadata": {
    "id": "MjT-X-NM1ZE0"
   }
  },
  {
   "cell_type": "code",
   "source": [
    "def model_cf(embed_size=10, drop_out_prob=0.2):\n",
    "    movie_input = Input(shape=[1], name=\"movie-input\")\n",
    "    user_input = Input(shape=[1], name=\"user-input\")\n",
    "\n",
    "    movie_emb_mlp = Embedding(num_movies, embed_size, name=\"movie-embedding-mlp\")(movie_input)\n",
    "    movie_vec_mlp = Flatten(name=\"flatten-movie-mlp\")(movie_emb_mlp)\n",
    "\n",
    "    user_emb_mlp = Embedding(num_users, embed_size, name=\"user-embedding-mlp\")(user_input)\n",
    "    user_vec_mlp = Flatten(name=\"flatten-user-mlp\")(user_emb_mlp)\n",
    "\n",
    "    movie_embedding_mf = Embedding(num_movies, embed_size, name='movie-embedding-mf')(movie_input)\n",
    "    movie_vec_mf = Flatten(name='flatten-movie-mf')(movie_embedding_mf)\n",
    "\n",
    "    user_embedding_mf = Embedding(num_users, embed_size, name='user-embedding-mf')(user_input)\n",
    "    user_vec_mf = Flatten(name='flatten-user-mf')(user_embedding_mf)\n",
    "\n",
    "    concat = concatenate([movie_vec_mlp, user_vec_mlp], axis=-1, name='concat')\n",
    "    dropout = Dropout(drop_out_prob)(concat)\n",
    "\n",
    "    fc_1 = Dense(100, name='fc-1', activation='relu')(dropout)\n",
    "    fc_1_bn = BatchNormalization(name='batch-norm-1')(fc_1)\n",
    "    fc_1_dropout = Dropout(drop_out_prob)(fc_1_bn)\n",
    "\n",
    "    fc_2 = Dense(50, name='fc-2', activation='relu')(fc_1_dropout)\n",
    "    fc_2_bn = BatchNormalization(name='batch-norm-2')(fc_2)\n",
    "    fc_2_dropout = Dropout(drop_out_prob)(fc_2_bn)\n",
    "\n",
    "    predicted_mlp = Dense(10, name='pred-mlp', activation='relu')(fc_2_dropout)\n",
    "    predicted_mf = dot([movie_vec_mf, user_vec_mf], axes=1, normalize=False)\n",
    "    combine_mlp_mf = concatenate([predicted_mf, predicted_mlp], axis=-1, name='pred_mf')\n",
    "\n",
    "\n",
    "    result = Dense(1, name='result', activation='linear')(combine_mlp_mf) \n",
    "    model = Model([user_input, movie_input], result)\n",
    "    model.compile(optimizer=Adam(lr=0.001), loss='mean_squared_error')    \n",
    "\n",
    "    return model"
   ],
   "metadata": {
    "id": "54766oWV7eMr",
    "ExecuteTime": {
     "end_time": "2023-12-02T08:34:28.734345600Z",
     "start_time": "2023-12-02T08:34:28.727719100Z"
    }
   },
   "execution_count": 6,
   "outputs": []
  },
  {
   "cell_type": "markdown",
   "source": [
    "##  Model Training\n",
    "\n",
    "Now that the model has been created, it can be trained on a training set, with an embedded layer size of 5 and with the default probability specified in the function for creating the model. There will be 10 epochs in the learning process, to save the model with the least loss on validation data, we will use ModelCheckpoint."
   ],
   "metadata": {
    "id": "LFLTeYEWCM6n"
   }
  },
  {
   "cell_type": "code",
   "source": [
    "model_checkpoint = ModelCheckpoint('../models/rec_films.h5', save_best_only=True, save_weights_only=False, monitor='val_loss', mode='min', verbose=1)\n",
    "\n",
    "model = model_cf(embed_size=5)\n",
    "history = model.fit(\n",
    "    [train.userId, train.movieId], train.rating, \n",
    "    validation_data=([validation.userId, validation.movieId], validation.rating),  # Update here\n",
    "    epochs=10, \n",
    "    batch_size=64,\n",
    "    callbacks=[model_checkpoint]\n",
    ")\n"
   ],
   "metadata": {
    "colab": {
     "base_uri": "https://localhost:8080/",
     "height": 410
    },
    "id": "-Sb_icT-C8pV",
    "outputId": "db41ad5a-cbbf-4177-b2ad-9f7cfc504999",
    "ExecuteTime": {
     "end_time": "2023-12-02T08:35:35.419979400Z",
     "start_time": "2023-12-02T08:34:28.738608500Z"
    }
   },
   "execution_count": 7,
   "outputs": [
    {
     "name": "stdout",
     "output_type": "stream",
     "text": [
      "WARNING:tensorflow:From D:\\innopolis\\PMLDL\\movies\\lib\\site-packages\\keras\\src\\backend.py:1398: The name tf.executing_eagerly_outside_functions is deprecated. Please use tf.compat.v1.executing_eagerly_outside_functions instead.\n"
     ]
    },
    {
     "name": "stderr",
     "output_type": "stream",
     "text": [
      "WARNING:absl:`lr` is deprecated in Keras optimizer, please use `learning_rate` or use the legacy optimizer, e.g.,tf.keras.optimizers.legacy.Adam.\n"
     ]
    },
    {
     "name": "stdout",
     "output_type": "stream",
     "text": [
      "Epoch 1/10\n",
      "WARNING:tensorflow:From D:\\innopolis\\PMLDL\\movies\\lib\\site-packages\\keras\\src\\utils\\tf_utils.py:492: The name tf.ragged.RaggedTensorValue is deprecated. Please use tf.compat.v1.ragged.RaggedTensorValue instead.\n"
     ]
    },
    {
     "name": "stderr",
     "output_type": "stream",
     "text": [
      "WARNING:tensorflow:From D:\\innopolis\\PMLDL\\movies\\lib\\site-packages\\keras\\src\\utils\\tf_utils.py:492: The name tf.ragged.RaggedTensorValue is deprecated. Please use tf.compat.v1.ragged.RaggedTensorValue instead.\n",
      "\n"
     ]
    },
    {
     "name": "stdout",
     "output_type": "stream",
     "text": [
      " 989/1000 [============================>.] - ETA: 0s - loss: 1.7615\n",
      "Epoch 1: val_loss improved from inf to 1.11647, saving model to ../models\\rec_films.h5\n",
      "1000/1000 [==============================] - 10s 7ms/step - loss: 1.7570 - val_loss: 1.1165\n",
      "Epoch 2/10\n",
      "  15/1000 [..............................] - ETA: 3s - loss: 1.1315"
     ]
    },
    {
     "name": "stderr",
     "output_type": "stream",
     "text": [
      "D:\\innopolis\\PMLDL\\movies\\lib\\site-packages\\keras\\src\\engine\\training.py:3103: UserWarning: You are saving your model as an HDF5 file via `model.save()`. This file format is considered legacy. We recommend using instead the native Keras format, e.g. `model.save('my_model.keras')`.\n",
      "  saving_api.save_model(\n"
     ]
    },
    {
     "name": "stdout",
     "output_type": "stream",
     "text": [
      " 990/1000 [============================>.] - ETA: 0s - loss: 1.1841\n",
      "Epoch 2: val_loss improved from 1.11647 to 0.96504, saving model to ../models\\rec_films.h5\n",
      "1000/1000 [==============================] - 5s 5ms/step - loss: 1.1825 - val_loss: 0.9650\n",
      "Epoch 3/10\n",
      " 996/1000 [============================>.] - ETA: 0s - loss: 0.9906\n",
      "Epoch 3: val_loss improved from 0.96504 to 0.91890, saving model to ../models\\rec_films.h5\n",
      "1000/1000 [==============================] - 7s 7ms/step - loss: 0.9903 - val_loss: 0.9189\n",
      "Epoch 4/10\n",
      " 997/1000 [============================>.] - ETA: 0s - loss: 0.8784\n",
      "Epoch 4: val_loss improved from 0.91890 to 0.90923, saving model to ../models\\rec_films.h5\n",
      "1000/1000 [==============================] - 7s 7ms/step - loss: 0.8783 - val_loss: 0.9092\n",
      "Epoch 5/10\n",
      "1000/1000 [==============================] - ETA: 0s - loss: 0.8080\n",
      "Epoch 5: val_loss did not improve from 0.90923\n",
      "1000/1000 [==============================] - 7s 7ms/step - loss: 0.8080 - val_loss: 0.9104\n",
      "Epoch 6/10\n",
      " 993/1000 [============================>.] - ETA: 0s - loss: 0.7620\n",
      "Epoch 6: val_loss improved from 0.90923 to 0.90885, saving model to ../models\\rec_films.h5\n",
      "1000/1000 [==============================] - 7s 7ms/step - loss: 0.7618 - val_loss: 0.9088\n",
      "Epoch 7/10\n",
      " 997/1000 [============================>.] - ETA: 0s - loss: 0.7322\n",
      "Epoch 7: val_loss did not improve from 0.90885\n",
      "1000/1000 [==============================] - 5s 5ms/step - loss: 0.7321 - val_loss: 0.9129\n",
      "Epoch 8/10\n",
      " 987/1000 [============================>.] - ETA: 0s - loss: 0.7066\n",
      "Epoch 8: val_loss did not improve from 0.90885\n",
      "1000/1000 [==============================] - 5s 5ms/step - loss: 0.7068 - val_loss: 0.9251\n",
      "Epoch 9/10\n",
      " 992/1000 [============================>.] - ETA: 0s - loss: 0.6903\n",
      "Epoch 9: val_loss did not improve from 0.90885\n",
      "1000/1000 [==============================] - 6s 6ms/step - loss: 0.6907 - val_loss: 0.9287\n",
      "Epoch 10/10\n",
      " 993/1000 [============================>.] - ETA: 0s - loss: 0.6771\n",
      "Epoch 10: val_loss did not improve from 0.90885\n",
      "1000/1000 [==============================] - 6s 6ms/step - loss: 0.6777 - val_loss: 0.9279\n"
     ]
    }
   ]
  },
  {
   "cell_type": "markdown",
   "source": [
    "## Evaluating \n",
    "\n",
    "Evaluating will be carried out on a test dataset previously unknown to our model with best weights. MAP and NDCG are commonly used in recommender systems because they consider the ranking aspect and the relevance of items\n",
    "\n",
    "1. Mean Average Precision (MAP): MAP evaluates the precision of the recommendations by considering the ranking of relevant items. It provides an average precision value, considering different users and their preferences.\n",
    "\n",
    "2. Normalized Discounted Cumulative Gain (NDCG): NDCG is especially useful when the goal is to prioritize relevant items at the top of the recommendation list."
   ],
   "metadata": {
    "id": "dsHH5N3BEQBZ"
   }
  },
  {
   "cell_type": "code",
   "execution_count": 8,
   "outputs": [],
   "source": [
    "model = load_model('../models/rec_films.h5')"
   ],
   "metadata": {
    "collapsed": false,
    "ExecuteTime": {
     "end_time": "2023-12-02T08:35:35.929992800Z",
     "start_time": "2023-12-02T08:35:35.419979400Z"
    }
   }
  },
  {
   "cell_type": "code",
   "execution_count": 13,
   "outputs": [
    {
     "name": "stdout",
     "output_type": "stream",
     "text": [
      "625/625 [==============================] - 2s 2ms/step\n"
     ]
    }
   ],
   "source": [
    "test_predictions = model.predict([test.userId, test.movieId])"
   ],
   "metadata": {
    "collapsed": false,
    "ExecuteTime": {
     "end_time": "2023-12-02T08:38:27.581721Z",
     "start_time": "2023-12-02T08:38:25.452594900Z"
    }
   }
  },
  {
   "cell_type": "code",
   "execution_count": 21,
   "outputs": [
    {
     "name": "stdout",
     "output_type": "stream",
     "text": [
      "Test MAP: 0.6806056305849195\n",
      "Test NDCG: 0.9579940532710235\n"
     ]
    },
    {
     "data": {
      "text/plain": "<Figure size 640x480 with 1 Axes>",
      "image/png": "[encoded data removed]"
     },
     "metadata": {},
     "output_type": "display_data"
    }
   ],
   "source": [
    "threshold = 3.5  # You can adjust this threshold based on\n",
    "true_items = (test.rating >= threshold).astype(int)\n",
    "predicted_items = (test_predictions >= threshold).astype(int)\n",
    "\n",
    "true_items = true_items.values.reshape(1, -1)\n",
    "predicted_items = predicted_items.flatten().reshape(1, -1)\n",
    "\n",
    "map_score = average_precision_score(true_items, predicted_items, average='micro')\n",
    "ndcg_score_value = ndcg_score(true_items, predicted_items)\n",
    "\n",
    "print(f'Test MAP: {map_score}')\n",
    "print(f'Test NDCG: {ndcg_score_value}')\n",
    "\n",
    "plt.plot(history.history['loss'], label='Train Loss')\n",
    "plt.plot(history.history['val_loss'], label='Validation Loss')\n",
    "plt.xlabel('Epochs')\n",
    "plt.ylabel('Loss')\n",
    "plt.legend()\n",
    "plt.show()"
   ],
   "metadata": {
    "collapsed": false,
    "ExecuteTime": {
     "end_time": "2023-12-02T08:43:42.326647700Z",
     "start_time": "2023-12-02T08:43:42.034893900Z"
    }
   }
  },
  {
   "cell_type": "markdown",
   "source": [
    "MAP = 0.6788 is a relatively good score, suggesting that the model is effective in ranking relevant items higher. \n",
    "\n",
    "NDCG = 0.9573 is quite high, indicating that the model is providing good rankings for relevant items."
   ],
   "metadata": {
    "collapsed": false
   }
  },
  {
   "cell_type": "markdown",
   "source": [
    "## Recommendation of the top N movies for the user\n",
    "\n",
    "After all the actions, you can try to make top N recommendations for the user, depending on his previous ratings. To do this, it will be convenient to create a function that outputs the names of the top N movies. Also, in the function itself, we will offer to make predictions on the rating of exactly those films that \"similar\" users have watched, we will upload the ids of \"similar\" users from a json file"
   ],
   "metadata": {
    "id": "bbnAsCXMVj57"
   }
  },
  {
   "cell_type": "code",
   "execution_count": 22,
   "outputs": [],
   "source": [
    "movie_df = pd.read_csv(\"../data/raw/movies.csv\")"
   ],
   "metadata": {
    "collapsed": false,
    "ExecuteTime": {
     "end_time": "2023-12-02T08:46:24.361005200Z",
     "start_time": "2023-12-02T08:46:24.313811Z"
    }
   }
  },
  {
   "cell_type": "code",
   "source": [
    "def recommendation_top(rec_model, client_id, top_k):\n",
    "    movie_watched = rating_df[rating_df['userId'] == client_id]['movieId'].values\n",
    "    \n",
    "    json_file_path = f'../data/users/similar_users_to_{client_id}.json'\n",
    "\n",
    "    with open(json_file_path, 'r') as file:\n",
    "        similar_users_data = json.load(file)\n",
    "    \n",
    "    # Получите список пользователей из json\n",
    "    similar_users_list = similar_users_data[\"similar_users\"]\n",
    "    filtered_rating_df = rating_df[(rating_df['userId'].isin(similar_users_list)) & (rating_df['rating'] >= 3)]\n",
    "    result_df = pd.merge(filtered_rating_df, movie_df, on='movieId', how='inner')\n",
    "    movies_id = result_df[\"movieId\"].unique()\n",
    "    movie_poll = []\n",
    "    for item in movies_id:\n",
    "        if not np.isin(item, movie_watched):\n",
    "            movie_poll.append(item)\n",
    "            \n",
    "    d = {'userId': [client_id] * len(movie_poll), 'movieId': movie_poll}\n",
    "    client_df = pd.DataFrame(d)\n",
    "    \n",
    "    ratings = rec_model.predict([client_df['userId'], client_df['movieId']])\n",
    "    \n",
    "    top_ratings_idx = ratings.flatten().argsort()[-top_k:][::-1]\n",
    "    top_ratings = ratings[top_ratings_idx].flatten()\n",
    "    recommend_movieId = [movie_poll[x] for x in top_ratings_idx]\n",
    "    \n",
    "    top_movie_rec = (\n",
    "       pd.DataFrame({'movieId': recommend_movieId, 'prediction': top_ratings})\n",
    "       .join(result_df.set_index('movieId'), on='movieId')\n",
    "       .drop_duplicates(subset='movieId', keep='first')\n",
    "    )\n",
    "    columns_to_keep = ['title', 'prediction', 'movieId', 'genres', 'userId', 'rating']\n",
    "    top_movie_rec = top_movie_rec.loc[:, columns_to_keep]\n",
    "    return top_movie_rec\n"
   ],
   "metadata": {
    "id": "KsqKJ5FkVwBR",
    "ExecuteTime": {
     "end_time": "2023-12-02T08:46:26.249714800Z",
     "start_time": "2023-12-02T08:46:26.204934300Z"
    }
   },
   "execution_count": 23,
   "outputs": []
  },
  {
   "cell_type": "code",
   "source": [
    "client_id = 778\n",
    "print(f\"Recommended films for user: {client_id}\")\n",
    "recommendation_top(model, client_id, 10)"
   ],
   "metadata": {
    "colab": {
     "base_uri": "https://localhost:8080/",
     "height": 429
    },
    "id": "HR3MmZCmWXUM",
    "outputId": "65555a2e-f97f-4c36-fb5c-53ced2772ab1",
    "ExecuteTime": {
     "end_time": "2023-12-02T08:46:28.653637Z",
     "start_time": "2023-12-02T08:46:28.154132500Z"
    }
   },
   "execution_count": 24,
   "outputs": [
    {
     "name": "stdout",
     "output_type": "stream",
     "text": [
      "Recommended films for user: 778\n",
      "16/16 [==============================] - 0s 2ms/step\n"
     ]
    },
    {
     "data": {
      "text/plain": "                          title  prediction  movieId  \\\n0    Wrong Trousers, The (1993)    4.272600      169   \n1    Clockwork Orange, A (1971)    4.195411      179   \n2  Devil's Advocate, The (1997)    4.107767      307   \n3          Trainspotting (1996)    4.026923      475   \n4      Leaving Las Vegas (1995)    4.012678      276   \n5  Celluloid Closet, The (1995)    4.002766      813   \n6           Blade Runner (1982)    3.974004       89   \n7            Bob Roberts (1992)    3.973087      425   \n8        Wings of Desire (1987)    3.904222      512   \n9            Down by Law (1986)    3.874971      522   \n\n                          genres  userId  rating  \n0               Animation|Comedy     727       5  \n1                         Sci-Fi     774       5  \n2  Crime|Horror|Mystery|Thriller     758       3  \n3                          Drama     742       4  \n4                  Drama|Romance     757       4  \n5                    Documentary     770       5  \n6               Film-Noir|Sci-Fi     757       4  \n7                         Comedy     758       5  \n8           Comedy|Drama|Romance     758       5  \n9                   Comedy|Drama     765       5  ",
      "text/html": "<div>\n<style scoped>\n    .dataframe tbody tr th:only-of-type {\n        vertical-align: middle;\n    }\n\n    .dataframe tbody tr th {\n        vertical-align: top;\n    }\n\n    .dataframe thead th {\n        text-align: right;\n    }\n</style>\n<table border=\"1\" class=\"dataframe\">\n  <thead>\n    <tr style=\"text-align: right;\">\n      <th></th>\n      <th>title</th>\n      <th>prediction</th>\n      <th>movieId</th>\n      <th>genres</th>\n      <th>userId</th>\n      <th>rating</th>\n    </tr>\n  </thead>\n  <tbody>\n    <tr>\n      <th>0</th>\n      <td>Wrong Trousers, The (1993)</td>\n      <td>4.272600</td>\n      <td>169</td>\n      <td>Animation|Comedy</td>\n      <td>727</td>\n      <td>5</td>\n    </tr>\n    <tr>\n      <th>1</th>\n      <td>Clockwork Orange, A (1971)</td>\n      <td>4.195411</td>\n      <td>179</td>\n      <td>Sci-Fi</td>\n      <td>774</td>\n      <td>5</td>\n    </tr>\n    <tr>\n      <th>2</th>\n      <td>Devil's Advocate, The (1997)</td>\n      <td>4.107767</td>\n      <td>307</td>\n      <td>Crime|Horror|Mystery|Thriller</td>\n      <td>758</td>\n      <td>3</td>\n    </tr>\n    <tr>\n      <th>3</th>\n      <td>Trainspotting (1996)</td>\n      <td>4.026923</td>\n      <td>475</td>\n      <td>Drama</td>\n      <td>742</td>\n      <td>4</td>\n    </tr>\n    <tr>\n      <th>4</th>\n      <td>Leaving Las Vegas (1995)</td>\n      <td>4.012678</td>\n      <td>276</td>\n      <td>Drama|Romance</td>\n      <td>757</td>\n      <td>4</td>\n    </tr>\n    <tr>\n      <th>5</th>\n      <td>Celluloid Closet, The (1995)</td>\n      <td>4.002766</td>\n      <td>813</td>\n      <td>Documentary</td>\n      <td>770</td>\n      <td>5</td>\n    </tr>\n    <tr>\n      <th>6</th>\n      <td>Blade Runner (1982)</td>\n      <td>3.974004</td>\n      <td>89</td>\n      <td>Film-Noir|Sci-Fi</td>\n      <td>757</td>\n      <td>4</td>\n    </tr>\n    <tr>\n      <th>7</th>\n      <td>Bob Roberts (1992)</td>\n      <td>3.973087</td>\n      <td>425</td>\n      <td>Comedy</td>\n      <td>758</td>\n      <td>5</td>\n    </tr>\n    <tr>\n      <th>8</th>\n      <td>Wings of Desire (1987)</td>\n      <td>3.904222</td>\n      <td>512</td>\n      <td>Comedy|Drama|Romance</td>\n      <td>758</td>\n      <td>5</td>\n    </tr>\n    <tr>\n      <th>9</th>\n      <td>Down by Law (1986)</td>\n      <td>3.874971</td>\n      <td>522</td>\n      <td>Comedy|Drama</td>\n      <td>765</td>\n      <td>5</td>\n    </tr>\n  </tbody>\n</table>\n</div>"
     },
     "execution_count": 24,
     "metadata": {},
     "output_type": "execute_result"
    }
   ]
  }
 ]
}

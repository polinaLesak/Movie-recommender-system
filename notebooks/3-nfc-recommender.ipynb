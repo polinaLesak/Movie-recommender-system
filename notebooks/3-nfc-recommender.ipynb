{
 "nbformat": 4,
 "nbformat_minor": 0,
 "metadata": {
  "colab": {
   "provenance": [],
   "toc_visible": true,
   "gpuType": "T4"
  },
  "kernelspec": {
   "name": "python3",
   "language": "python",
   "display_name": "Python 3 (ipykernel)"
  },
  "language_info": {
   "name": "python"
  },
  "accelerator": "GPU",
  "gpuClass": "standard"
 },
 "cells": [
  {
   "cell_type": "markdown",
   "source": [
    "# Neural Collaborative Filtering Model\n",
    "\n",
    "In this notebook I will solve the second problem from my idea: Predict ratings for those films that \"similar\" users rated above 3 and already from these predictions give recommendations for viewing.\n",
    "Neural Collaborative Filtering is well suited for such purposes, with its help we will give recommendations to the user based on the films that he and other users have watched."
   ],
   "metadata": {
    "collapsed": false
   }
  },
  {
   "cell_type": "code",
   "execution_count": 185,
   "outputs": [],
   "source": [
    "import numpy as np\n",
    "import pandas as pd\n",
    "import matplotlib.pyplot as plt\n",
    "from keras.callbacks import ModelCheckpoint\n",
    "from keras.models import Model\n",
    "from keras.layers import Embedding, Flatten, Input, Dense, Dropout, BatchNormalization, concatenate, dot\n",
    "from keras.optimizers import Adam\n",
    "from sklearn.model_selection import train_test_split\n",
    "import json"
   ],
   "metadata": {
    "collapsed": false,
    "ExecuteTime": {
     "end_time": "2023-12-01T16:47:09.708710Z",
     "start_time": "2023-12-01T16:47:09.538379800Z"
    }
   }
  },
  {
   "cell_type": "code",
   "source": [
    "u_cols = ['userId', 'movieId', 'rating','timestamp']\n",
    "rating_df = pd.read_csv(\"../data/raw/rating.csv\", index_col=0)"
   ],
   "metadata": {
    "id": "kyo1EHA1pvvh",
    "ExecuteTime": {
     "end_time": "2023-12-01T17:02:20.918520700Z",
     "start_time": "2023-12-01T17:02:20.853008200Z"
    }
   },
   "execution_count": 209,
   "outputs": []
  },
  {
   "cell_type": "code",
   "source": [
    "user_Ids = rating_df[\"userId\"].unique()\n",
    "num_users = len(user_Ids)+1\n",
    "movie_Ids = rating_df[\"movieId\"].unique()\n",
    "num_movies = len(movie_Ids)+1"
   ],
   "metadata": {
    "colab": {
     "base_uri": "https://localhost:8080/"
    },
    "id": "GaIw_bz7wh1c",
    "outputId": "99d878c2-3f78-46be-f6a0-7bc224c7aaa2",
    "ExecuteTime": {
     "end_time": "2023-12-01T17:01:11.011180600Z",
     "start_time": "2023-12-01T17:01:11.000181300Z"
    }
   },
   "execution_count": 205,
   "outputs": []
  },
  {
   "cell_type": "markdown",
   "source": [
    "To begin with, let's divide our dataset into test, train, validate sets"
   ],
   "metadata": {
    "collapsed": false
   }
  },
  {
   "cell_type": "code",
   "source": [
    "train_temp, test = train_test_split(rating_df, test_size=0.2, random_state=42)\n",
    "train, validation = train_test_split(train_temp, test_size=0.2, random_state=42)"
   ],
   "metadata": {
    "id": "b-fFjFMC0SWC",
    "ExecuteTime": {
     "end_time": "2023-12-01T16:47:09.842848400Z",
     "start_time": "2023-12-01T16:47:09.724734700Z"
    }
   },
   "execution_count": 192,
   "outputs": []
  },
  {
   "cell_type": "markdown",
   "source": [
    "## Model Architecture \n",
    "\n",
    "Neural Collaborative Filtering replaces the user-item inner product with a neural architecture.\n",
    "\n",
    "![NFC_model_arch](https://miro.medium.com/v2/resize:fit:1100/format:webp/1*aP-Mx266ExwoWZPSdHtYpA.png)\n",
    "\n",
    "Here's a brief overview of the architecture:\n",
    "\n",
    "Input Layer:\n",
    "* Two separate input layers for user and movie, each of size 1, representing user and movie indices.\n",
    "\n",
    "Embedding Layers:\n",
    "* Embedding layers for both user and movie, which transform the input indices into dense vectors of a specified size (embedding size).\n",
    "* The embeddings capture latent factors for users and movies.\n",
    "\n",
    "MLP Component:\n",
    "* The embedded user and movie vectors are fed into separate Multi-Layer Perceptrons (MLPs).\n",
    "* The output of each MLP is flattened to create vectors of fixed size.\n",
    "* These vectors are concatenated to form a single vector.\n",
    "\n",
    "Matrix Factorization Component:\n",
    "* Another set of embedding layers for user and movie indices are used to create latent factor vectors.\n",
    "* The dot product of the user and movie latent factor vectors is taken.\n",
    "\n",
    "Concatenation and Fusion:\n",
    "* The output vectors from the MLP and the dot product from the matrix factorization are concatenated.\n",
    "* This combination aims to capture both the non-linear interactions and the latent factors.\n",
    "\n",
    "Fully Connected Layers:\n",
    "* The concatenated vector is passed through fully connected layers with batch normalization and dropout for regularization.\n",
    "* This helps the model learn complex representations and prevent overfitting.\n",
    "\n",
    "Output Layer:\n",
    "* The final output layer with a single neuron and linear activation function is used to predict the rating or preference value.\n",
    "\n",
    "Loss and Optimization:\n",
    "* The model is trained using the mean squared error loss, commonly used for regression tasks.\n",
    "* Adam optimizer with a specified learning rate is employed to minimize the loss during training.\n"
   ],
   "metadata": {
    "id": "MjT-X-NM1ZE0"
   }
  },
  {
   "cell_type": "code",
   "source": [
    "def model_cf(embed_size=10, drop_out_prob=0.2):\n",
    "    movie_input = Input(shape=[1], name=\"movie-input\")\n",
    "    user_input = Input(shape=[1], name=\"user-input\")\n",
    "\n",
    "    movie_emb_mlp = Embedding(num_movies, embed_size, name=\"movie-embedding-mlp\")(movie_input)\n",
    "    movie_vec_mlp = Flatten(name=\"flatten-movie-mlp\")(movie_emb_mlp)\n",
    "\n",
    "    user_emb_mlp = Embedding(num_users, embed_size, name=\"user-embedding-mlp\")(user_input)\n",
    "    user_vec_mlp = Flatten(name=\"flatten-user-mlp\")(user_emb_mlp)\n",
    "\n",
    "    movie_embedding_mf = Embedding(num_movies, embed_size, name='movie-embedding-mf')(movie_input)\n",
    "    movie_vec_mf = Flatten(name='flatten-movie-mf')(movie_embedding_mf)\n",
    "\n",
    "    user_embedding_mf = Embedding(num_users, embed_size, name='user-embedding-mf')(user_input)\n",
    "    user_vec_mf = Flatten(name='flatten-user-mf')(user_embedding_mf)\n",
    "\n",
    "    concat = concatenate([movie_vec_mlp, user_vec_mlp], axis=-1, name='concat')\n",
    "    dropout = Dropout(drop_out_prob)(concat)\n",
    "\n",
    "    fc_1 = Dense(100, name='fc-1', activation='relu')(dropout)\n",
    "    fc_1_bn = BatchNormalization(name='batch-norm-1')(fc_1)\n",
    "    fc_1_dropout = Dropout(drop_out_prob)(fc_1_bn)\n",
    "\n",
    "    fc_2 = Dense(50, name='fc-2', activation='relu')(fc_1_dropout)\n",
    "    fc_2_bn = BatchNormalization(name='batch-norm-2')(fc_2)\n",
    "    fc_2_dropout = Dropout(drop_out_prob)(fc_2_bn)\n",
    "\n",
    "    predicted_mlp = Dense(10, name='pred-mlp', activation='relu')(fc_2_dropout)\n",
    "    predicted_mf = dot([movie_vec_mf, user_vec_mf], axes=1, normalize=False)\n",
    "    combine_mlp_mf = concatenate([predicted_mf, predicted_mlp], axis=-1, name='pred_mf')\n",
    "\n",
    "    result = Dense(1, name='result', activation='linear')(combine_mlp_mf)  # Changed activation to 'linear'\n",
    "    model = Model([user_input, movie_input], result)\n",
    "    model.compile(optimizer=Adam(lr=0.001), loss='mean_squared_error')  # Adjusted learning rate\n",
    "\n",
    "    return model"
   ],
   "metadata": {
    "id": "54766oWV7eMr",
    "ExecuteTime": {
     "end_time": "2023-12-01T18:22:03.916333900Z",
     "start_time": "2023-12-01T18:22:03.900296200Z"
    }
   },
   "execution_count": 237,
   "outputs": []
  },
  {
   "cell_type": "markdown",
   "source": [
    "##  Model Training\n",
    "\n",
    "Now that the model has been created, it can be trained on a training set, with an embedded layer size of 5 and with the default probability specified in the function for creating the model. There will be 10 epochs in the learning process, to save the model with the least loss on validation data, we will use ModelCheckpoint."
   ],
   "metadata": {
    "id": "LFLTeYEWCM6n"
   }
  },
  {
   "cell_type": "code",
   "source": [
    "model_checkpoint = ModelCheckpoint('../models/rec_films.h5', save_best_only=True, save_weights_only=False, monitor='val_loss', mode='min', verbose=1)\n",
    "\n",
    "model = model_cf(embed_size=5)\n",
    "history = model.fit(\n",
    "    [train.userId, train.movieId], train.rating, \n",
    "    validation_data=([validation.userId, validation.movieId], validation.rating),  # Update here\n",
    "    epochs=10, \n",
    "    batch_size=64,\n",
    "    callbacks=[model_checkpoint]\n",
    ")\n"
   ],
   "metadata": {
    "colab": {
     "base_uri": "https://localhost:8080/",
     "height": 410
    },
    "id": "-Sb_icT-C8pV",
    "outputId": "db41ad5a-cbbf-4177-b2ad-9f7cfc504999",
    "ExecuteTime": {
     "end_time": "2023-12-01T18:22:41.821163500Z",
     "start_time": "2023-12-01T18:22:06.646198200Z"
    }
   },
   "execution_count": 238,
   "outputs": [
    {
     "name": "stderr",
     "output_type": "stream",
     "text": [
      "WARNING:absl:`lr` is deprecated in Keras optimizer, please use `learning_rate` or use the legacy optimizer, e.g.,tf.keras.optimizers.legacy.Adam.\n"
     ]
    },
    {
     "name": "stdout",
     "output_type": "stream",
     "text": [
      "Epoch 1/10\n",
      " 990/1000 [============================>.] - ETA: 0s - loss: 2.4052\n",
      "Epoch 1: val_loss improved from inf to 1.08532, saving model to ../models\\rec_films.h5\n",
      "1000/1000 [==============================] - 5s 3ms/step - loss: 2.3934 - val_loss: 1.0853\n",
      "Epoch 2/10\n",
      "  56/1000 [>.............................] - ETA: 2s - loss: 1.2987"
     ]
    },
    {
     "name": "stderr",
     "output_type": "stream",
     "text": [
      "D:\\innopolis\\PMLDL\\movies\\lib\\site-packages\\keras\\src\\engine\\training.py:3103: UserWarning: You are saving your model as an HDF5 file via `model.save()`. This file format is considered legacy. We recommend using instead the native Keras format, e.g. `model.save('my_model.keras')`.\n",
      "  saving_api.save_model(\n"
     ]
    },
    {
     "name": "stdout",
     "output_type": "stream",
     "text": [
      " 993/1000 [============================>.] - ETA: 0s - loss: 1.1585\n",
      "Epoch 2: val_loss improved from 1.08532 to 0.93169, saving model to ../models\\rec_films.h5\n",
      "1000/1000 [==============================] - 3s 3ms/step - loss: 1.1575 - val_loss: 0.9317\n",
      "Epoch 3/10\n",
      " 983/1000 [============================>.] - ETA: 0s - loss: 0.9535\n",
      "Epoch 3: val_loss improved from 0.93169 to 0.88614, saving model to ../models\\rec_films.h5\n",
      "1000/1000 [==============================] - 3s 3ms/step - loss: 0.9534 - val_loss: 0.8861\n",
      "Epoch 4/10\n",
      " 986/1000 [============================>.] - ETA: 0s - loss: 0.8463\n",
      "Epoch 4: val_loss did not improve from 0.88614\n",
      "1000/1000 [==============================] - 3s 3ms/step - loss: 0.8468 - val_loss: 0.8910\n",
      "Epoch 5/10\n",
      " 995/1000 [============================>.] - ETA: 0s - loss: 0.7861\n",
      "Epoch 5: val_loss improved from 0.88614 to 0.88185, saving model to ../models\\rec_films.h5\n",
      "1000/1000 [==============================] - 3s 3ms/step - loss: 0.7867 - val_loss: 0.8819\n",
      "Epoch 6/10\n",
      " 988/1000 [============================>.] - ETA: 0s - loss: 0.7421\n",
      "Epoch 6: val_loss did not improve from 0.88185\n",
      "1000/1000 [==============================] - 3s 3ms/step - loss: 0.7431 - val_loss: 0.8928\n",
      "Epoch 7/10\n",
      " 992/1000 [============================>.] - ETA: 0s - loss: 0.7163\n",
      "Epoch 7: val_loss did not improve from 0.88185\n",
      "1000/1000 [==============================] - 3s 3ms/step - loss: 0.7162 - val_loss: 0.9010\n",
      "Epoch 8/10\n",
      " 996/1000 [============================>.] - ETA: 0s - loss: 0.6975\n",
      "Epoch 8: val_loss did not improve from 0.88185\n",
      "1000/1000 [==============================] - 3s 3ms/step - loss: 0.6984 - val_loss: 0.9068\n",
      "Epoch 9/10\n",
      " 985/1000 [============================>.] - ETA: 0s - loss: 0.6778\n",
      "Epoch 9: val_loss did not improve from 0.88185\n",
      "1000/1000 [==============================] - 3s 3ms/step - loss: 0.6792 - val_loss: 0.9199\n",
      "Epoch 10/10\n",
      " 985/1000 [============================>.] - ETA: 0s - loss: 0.6670\n",
      "Epoch 10: val_loss did not improve from 0.88185\n",
      "1000/1000 [==============================] - 3s 3ms/step - loss: 0.6669 - val_loss: 0.9232\n"
     ]
    }
   ]
  },
  {
   "cell_type": "markdown",
   "source": [
    "## Evaluating \n",
    "\n",
    "Evaluating will be carried out on a test dataset previously unknown to our model\n",
    "\n",
    "1. Root Mean Squared Error (RMSE): RMSE quantifies the average magnitude of the errors between predicted and actual values.\n",
    "\n",
    "2. Mean Absolute Error (MAE): MAE calculates the average absolute differences between predicted and actual values, providing a measure of the model's precision without considering the direction of errors.\n",
    "\n",
    "3. R-squared (R2) Score: R2 Score assesses the proportion of the variance in the target variable explained by the model."
   ],
   "metadata": {
    "id": "dsHH5N3BEQBZ"
   }
  },
  {
   "cell_type": "code",
   "execution_count": 239,
   "outputs": [
    {
     "name": "stdout",
     "output_type": "stream",
     "text": [
      "625/625 [==============================] - 1s 2ms/step\n"
     ]
    }
   ],
   "source": [
    "from sklearn.metrics import mean_squared_error, mean_absolute_error, r2_score\n",
    "test_predictions = model.predict([test.userId, test.movieId])"
   ],
   "metadata": {
    "collapsed": false,
    "ExecuteTime": {
     "end_time": "2023-12-01T18:38:41.463737700Z",
     "start_time": "2023-12-01T18:38:40.072776300Z"
    }
   }
  },
  {
   "cell_type": "code",
   "execution_count": 240,
   "outputs": [
    {
     "name": "stdout",
     "output_type": "stream",
     "text": [
      "Validation RMSE: 0.9660503551617728\n",
      "Validation MAE: 0.7555108083218336\n",
      "Validation R^2 Score: 0.2610890990029243\n"
     ]
    },
    {
     "data": {
      "text/plain": "<Figure size 640x480 with 1 Axes>",
      "image/png": "[encoded data removed]"
     },
     "metadata": {},
     "output_type": "display_data"
    }
   ],
   "source": [
    "test_rmse = np.sqrt(mean_squared_error(test.rating, test_predictions))\n",
    "test_mae = mean_absolute_error(test.rating, test_predictions)\n",
    "test_r2 = r2_score(test.rating, test_predictions)\n",
    "\n",
    "print(f'Validation RMSE: {test_rmse}')\n",
    "print(f'Validation MAE: {test_mae}')\n",
    "print(f'Validation R^2 Score: {test_r2}')\n",
    "\n",
    "# Plot training history\n",
    "plt.plot(history.history['loss'], label='Train Loss')\n",
    "plt.plot(history.history['val_loss'], label='Validation Loss')\n",
    "plt.xlabel('Epochs')\n",
    "plt.ylabel('Loss')\n",
    "plt.legend()\n",
    "plt.show()"
   ],
   "metadata": {
    "collapsed": false,
    "ExecuteTime": {
     "end_time": "2023-12-01T18:38:42.907311600Z",
     "start_time": "2023-12-01T18:38:42.714918200Z"
    }
   }
  },
  {
   "cell_type": "markdown",
   "source": [
    "Metrics indicate that the model has certain limitations in the accuracy of predicting user ratings for movies. RMSE and MAE, although slightly above zero, may be acceptable. However, the low value of R^2 Score (0.25) indicates that the model does not explain a significant part of the variance in the data, which may indicate the limited ability of the model to predict user preferences. Overall, the results suggest that the model can be improved to make more accurate predictions of user ratings."
   ],
   "metadata": {
    "collapsed": false
   }
  },
  {
   "cell_type": "markdown",
   "source": [
    "## Recommendation of the top N movies for the user\n",
    "\n",
    "After all the actions, you can try to make top N recommendations for the user, depending on his previous ratings. To do this, it will be convenient to create a function that outputs the names of the top N movies. Also, in the function itself, we will offer to make predictions on the rating of exactly those films that \"similar\" users have watched, we will upload the ids of \"similar\" users from a json file"
   ],
   "metadata": {
    "id": "bbnAsCXMVj57"
   }
  },
  {
   "cell_type": "code",
   "execution_count": null,
   "outputs": [],
   "source": [
    "movie_df = pd.read_csv(\"../data/raw/movies.csv\")"
   ],
   "metadata": {
    "collapsed": false,
    "ExecuteTime": {
     "start_time": "2023-12-01T16:47:11.962567600Z"
    }
   }
  },
  {
   "cell_type": "code",
   "execution_count": null,
   "outputs": [],
   "source": [
    "import json"
   ],
   "metadata": {
    "collapsed": false,
    "ExecuteTime": {
     "start_time": "2023-12-01T16:47:11.965568100Z"
    }
   }
  },
  {
   "cell_type": "code",
   "source": [
    "def recommendation_top(rec_model, client_id, top_k):\n",
    "    movie_watched = rating_df[rating_df['userId'] == client_id]['movieId'].values\n",
    "    \n",
    "    json_file_path = f'../data/users/similar_users_to_{client_id}.json'\n",
    "\n",
    "    with open(json_file_path, 'r') as file:\n",
    "        similar_users_data = json.load(file)\n",
    "    \n",
    "    # Получите список пользователей из json\n",
    "    similar_users_list = similar_users_data[\"similar_users\"]\n",
    "    filtered_rating_df = rating_df[(rating_df['userId'].isin(similar_users_list)) & (rating_df['rating'] >= 3)]\n",
    "    result_df = pd.merge(filtered_rating_df, movie_df, on='movieId', how='inner')\n",
    "    movies_id = result_df[\"movieId\"].unique()\n",
    "    movie_poll = []\n",
    "    for item in movies_id:\n",
    "        if not np.isin(item, movie_watched):\n",
    "            movie_poll.append(item)\n",
    "            \n",
    "    d = {'userId': [client_id] * len(movie_poll), 'movieId': movie_poll}\n",
    "    client_df = pd.DataFrame(d)\n",
    "    \n",
    "    ratings = rec_model.predict([client_df['userId'], client_df['movieId']])\n",
    "    \n",
    "    top_ratings_idx = ratings.flatten().argsort()[-top_k:][::-1]\n",
    "    top_ratings = ratings[top_ratings_idx].flatten()\n",
    "    recommend_movieId = [movie_poll[x] for x in top_ratings_idx]\n",
    "    \n",
    "    top_movie_rec = (\n",
    "       pd.DataFrame({'movieId': recommend_movieId, 'prediction': top_ratings})\n",
    "       .join(result_df.set_index('movieId'), on='movieId')\n",
    "       .drop_duplicates(subset='movieId', keep='first')\n",
    "    )\n",
    "    columns_to_keep = ['title', 'prediction', 'movieId', 'genres', 'userId', 'rating']\n",
    "    top_movie_rec = top_movie_rec.loc[:, columns_to_keep]\n",
    "    return top_movie_rec\n"
   ],
   "metadata": {
    "id": "KsqKJ5FkVwBR",
    "ExecuteTime": {
     "end_time": "2023-12-01T17:07:36.441769600Z",
     "start_time": "2023-12-01T17:07:36.398678100Z"
    }
   },
   "execution_count": 218,
   "outputs": []
  },
  {
   "cell_type": "code",
   "source": [
    "client_id = 778\n",
    "print(f\"Recommended films for user: {client_id}\")\n",
    "recommendation_top(model, client_id, 10)"
   ],
   "metadata": {
    "colab": {
     "base_uri": "https://localhost:8080/",
     "height": 429
    },
    "id": "HR3MmZCmWXUM",
    "outputId": "65555a2e-f97f-4c36-fb5c-53ced2772ab1",
    "ExecuteTime": {
     "end_time": "2023-12-01T18:17:20.005478200Z",
     "start_time": "2023-12-01T18:17:19.733856300Z"
    }
   },
   "execution_count": 236,
   "outputs": [
    {
     "name": "stdout",
     "output_type": "stream",
     "text": [
      "Recommended films for user: 778\n",
      "11/11 [==============================] - 0s 2ms/step\n"
     ]
    },
    {
     "data": {
      "text/plain": "                                    title  prediction  movieId  \\\n0                    Trainspotting (1996)    5.331509      475   \n1                   Get on the Bus (1996)    5.195612     1134   \n2                Leaving Las Vegas (1995)    5.030280      276   \n3                        Chinatown (1974)    4.833835      654   \n4       City of Lost Children, The (1995)    4.821582      919   \n5                 Bonnie and Clyde (1967)    4.779399      504   \n6              Rumble in the Bronx (1995)    4.764486       24   \n7               As Good As It Gets (1997)    4.673141      316   \n8               Santa with Muscles (1996)    4.595244     1500   \n9  One Flew Over the Cuckoo's Nest (1975)    4.533146      357   \n\n                       genres  userId  rating  \n0                       Drama     834       5  \n1                       Drama     896       3  \n2               Drama|Romance     800       3  \n3  Film-Noir|Mystery|Thriller     896       3  \n4            Adventure|Sci-Fi     756       5  \n5                 Crime|Drama     753       3  \n6      Action|Adventure|Crime     896       4  \n7                Comedy|Drama     834       5  \n8                      Comedy     781       5  \n9                       Drama     753       4  ",
      "text/html": "<div>\n<style scoped>\n    .dataframe tbody tr th:only-of-type {\n        vertical-align: middle;\n    }\n\n    .dataframe tbody tr th {\n        vertical-align: top;\n    }\n\n    .dataframe thead th {\n        text-align: right;\n    }\n</style>\n<table border=\"1\" class=\"dataframe\">\n  <thead>\n    <tr style=\"text-align: right;\">\n      <th></th>\n      <th>title</th>\n      <th>prediction</th>\n      <th>movieId</th>\n      <th>genres</th>\n      <th>userId</th>\n      <th>rating</th>\n    </tr>\n  </thead>\n  <tbody>\n    <tr>\n      <th>0</th>\n      <td>Trainspotting (1996)</td>\n      <td>5.331509</td>\n      <td>475</td>\n      <td>Drama</td>\n      <td>834</td>\n      <td>5</td>\n    </tr>\n    <tr>\n      <th>1</th>\n      <td>Get on the Bus (1996)</td>\n      <td>5.195612</td>\n      <td>1134</td>\n      <td>Drama</td>\n      <td>896</td>\n      <td>3</td>\n    </tr>\n    <tr>\n      <th>2</th>\n      <td>Leaving Las Vegas (1995)</td>\n      <td>5.030280</td>\n      <td>276</td>\n      <td>Drama|Romance</td>\n      <td>800</td>\n      <td>3</td>\n    </tr>\n    <tr>\n      <th>3</th>\n      <td>Chinatown (1974)</td>\n      <td>4.833835</td>\n      <td>654</td>\n      <td>Film-Noir|Mystery|Thriller</td>\n      <td>896</td>\n      <td>3</td>\n    </tr>\n    <tr>\n      <th>4</th>\n      <td>City of Lost Children, The (1995)</td>\n      <td>4.821582</td>\n      <td>919</td>\n      <td>Adventure|Sci-Fi</td>\n      <td>756</td>\n      <td>5</td>\n    </tr>\n    <tr>\n      <th>5</th>\n      <td>Bonnie and Clyde (1967)</td>\n      <td>4.779399</td>\n      <td>504</td>\n      <td>Crime|Drama</td>\n      <td>753</td>\n      <td>3</td>\n    </tr>\n    <tr>\n      <th>6</th>\n      <td>Rumble in the Bronx (1995)</td>\n      <td>4.764486</td>\n      <td>24</td>\n      <td>Action|Adventure|Crime</td>\n      <td>896</td>\n      <td>4</td>\n    </tr>\n    <tr>\n      <th>7</th>\n      <td>As Good As It Gets (1997)</td>\n      <td>4.673141</td>\n      <td>316</td>\n      <td>Comedy|Drama</td>\n      <td>834</td>\n      <td>5</td>\n    </tr>\n    <tr>\n      <th>8</th>\n      <td>Santa with Muscles (1996)</td>\n      <td>4.595244</td>\n      <td>1500</td>\n      <td>Comedy</td>\n      <td>781</td>\n      <td>5</td>\n    </tr>\n    <tr>\n      <th>9</th>\n      <td>One Flew Over the Cuckoo's Nest (1975)</td>\n      <td>4.533146</td>\n      <td>357</td>\n      <td>Drama</td>\n      <td>753</td>\n      <td>4</td>\n    </tr>\n  </tbody>\n</table>\n</div>"
     },
     "execution_count": 236,
     "metadata": {},
     "output_type": "execute_result"
    }
   ]
  }
 ]
}

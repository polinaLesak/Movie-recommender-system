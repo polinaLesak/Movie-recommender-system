{
 "cells": [
  {
   "cell_type": "markdown",
   "source": [
    "# Data loading and preprocessing"
   ],
   "metadata": {
    "collapsed": false
   },
   "id": "d5d28e59a40ed0aa"
  },
  {
   "cell_type": "markdown",
   "source": [
    "## Loading Movielens-100k"
   ],
   "metadata": {
    "collapsed": false
   },
   "id": "102b0a5470873f83"
  },
  {
   "cell_type": "markdown",
   "source": [
    "This dataset comprises ratings, ranging from 1 to 5 stars, from 943 users on 1682 movies. It has been cleaned up so that each user has rated at least 20 movies. Some simple demographic information such as age, gender, genres for the users and items are also available."
   ],
   "metadata": {
    "collapsed": false
   },
   "id": "342fb0f760fa9030"
  },
  {
   "cell_type": "code",
   "execution_count": 2,
   "outputs": [],
   "source": [
    "import os\n",
    "import requests\n",
    "import pandas as pd\n",
    "import matplotlib.pyplot as plt\n",
    "import seaborn as sns"
   ],
   "metadata": {
    "collapsed": false,
    "ExecuteTime": {
     "end_time": "2023-12-02T10:25:45.070716300Z",
     "start_time": "2023-12-02T10:25:44.913651300Z"
    }
   },
   "id": "initial_id"
  },
  {
   "cell_type": "markdown",
   "source": [
    "You can get the dataset simply by following the link, other sizes are also available, for example Movielens-1M and others."
   ],
   "metadata": {
    "collapsed": false
   },
   "id": "b71a594a9b62e690"
  },
  {
   "cell_type": "code",
   "execution_count": 3,
   "outputs": [],
   "source": [
    "url = \"https://files.grouplens.org/datasets/movielens/ml-100k.zip\"\n",
    "os.makedirs(\"../data/raw\", exist_ok=True)\n",
    "zip_filepath = \"../data/raw/ml-100k.zip\"\n",
    "response = requests.get(url)\n",
    "with open(zip_filepath, \"wb\") as zip_file:\n",
    "    zip_file.write(response.content)"
   ],
   "metadata": {
    "collapsed": false,
    "ExecuteTime": {
     "end_time": "2023-12-02T10:26:17.395082Z",
     "start_time": "2023-12-02T10:25:46.886207900Z"
    }
   },
   "id": "30125660a46f4e6f"
  },
  {
   "cell_type": "code",
   "execution_count": null,
   "outputs": [],
   "source": [
    "import zipfile\n",
    "with zipfile.ZipFile(zip_filepath, 'r') as zip_ref:\n",
    "    zip_ref.extractall(\"../data/raw\")"
   ],
   "metadata": {
    "collapsed": false,
    "ExecuteTime": {
     "end_time": "2023-11-30T17:19:59.272030800Z",
     "start_time": "2023-11-30T17:19:59.262779100Z"
    }
   },
   "id": "3224d78b75f0b15f"
  },
  {
   "cell_type": "markdown",
   "source": [
    "The dataset contains many useful files for machine learning , in this work we will use 3 main:\n",
    "* u.data - Full dataset of 100000 ratings by 943 users on 1682 items. Users and items are numbered consecutively from 1. The data is randomly ordered. This is a tab separated list of user id, item id, rating, and timestamp. The time stamps are unix seconds.\n",
    "* u.item - Information about the items (movies). This is a tab separated list of movie id, movie title, release date, video release date, IMDB URL, and genres. The last 19 fields are genres and contain binary values. Movies can be of several genres at once. The movie ids are the ones used in u.data \n",
    "* u.user - Demographic information about the users. This is a tab separated list of user id, age, gender, occupation, zip code. The user ids are the ones used in u.data file. "
   ],
   "metadata": {
    "collapsed": false
   },
   "id": "65afe86ced3fd1aa"
  },
  {
   "cell_type": "code",
   "execution_count": null,
   "outputs": [],
   "source": [
    "user_cols = [\n",
    "    'user_id', 'age', 'sex', \n",
    "    'occupation', 'zip_code']\n",
    "rating_cols = [\n",
    "    'userId', 'movieId', 'rating','timestamp']"
   ],
   "metadata": {
    "collapsed": false,
    "ExecuteTime": {
     "start_time": "2023-11-30T17:19:59.262779100Z"
    }
   },
   "id": "8a0c31d08229af1"
  },
  {
   "cell_type": "code",
   "execution_count": null,
   "outputs": [],
   "source": [
    "user_df = pd.read_csv(\"../data/raw/ml-100k/u.user\", sep='|', \n",
    "                    names=user_cols)\n",
    "user_df= user_df.drop(\"zip_code\", axis=1)\n",
    "rating_df= pd.read_csv(\"../data/raw/ml-100k/u.data\",  sep='\\t', names=rating_cols)"
   ],
   "metadata": {
    "collapsed": false,
    "ExecuteTime": {
     "start_time": "2023-11-30T17:19:59.272030800Z"
    }
   },
   "id": "7c7890fea1824a65"
  },
  {
   "cell_type": "code",
   "execution_count": null,
   "outputs": [],
   "source": [
    "rating_df.info()"
   ],
   "metadata": {
    "collapsed": false,
    "ExecuteTime": {
     "start_time": "2023-11-30T17:19:59.277338600Z"
    }
   },
   "id": "b7dbf0b2f069e2d0"
  },
  {
   "cell_type": "code",
   "execution_count": null,
   "outputs": [],
   "source": [
    "rating_df.head()"
   ],
   "metadata": {
    "collapsed": false,
    "ExecuteTime": {
     "end_time": "2023-11-30T17:19:59.294062700Z",
     "start_time": "2023-11-30T17:19:59.281157800Z"
    }
   },
   "id": "2bdc77645fe24087"
  },
  {
   "cell_type": "code",
   "execution_count": null,
   "outputs": [],
   "source": [
    "user_df.info()"
   ],
   "metadata": {
    "collapsed": false,
    "ExecuteTime": {
     "start_time": "2023-11-30T17:19:59.283979600Z"
    }
   },
   "id": "16137217b11c2d44"
  },
  {
   "cell_type": "code",
   "execution_count": null,
   "outputs": [],
   "source": [
    "user_df.head()"
   ],
   "metadata": {
    "collapsed": false,
    "ExecuteTime": {
     "start_time": "2023-11-30T17:19:59.289960Z"
    }
   },
   "id": "4bb60f1fd3e28bcd"
  },
  {
   "cell_type": "markdown",
   "source": [
    "Dataframes does not contain empty values, let's take a closer look at some of the aspects.\n",
    "\n",
    "## Visualization\n",
    "\n",
    "The first graph provides an idea of how ratings are distributed across different values, allowing you to get an idea of the frequency of each rating in the dataset."
   ],
   "metadata": {
    "collapsed": false
   },
   "id": "c389d932f4d843a4"
  },
  {
   "cell_type": "code",
   "execution_count": null,
   "outputs": [],
   "source": [
    "plt.figure(figsize=(10, 6))\n",
    "sns.countplot(x='rating', data=rating_df)\n",
    "plt.title('Distribution of Ratings')\n",
    "plt.xlabel('Rating')\n",
    "plt.ylabel('Count')\n",
    "plt.show()"
   ],
   "metadata": {
    "collapsed": false,
    "ExecuteTime": {
     "start_time": "2023-11-30T17:19:59.293550400Z"
    }
   },
   "id": "9c761bc3eb050946"
  },
  {
   "cell_type": "markdown",
   "source": [
    "We can say that the films are rated evenly most ratings are 3, 4. We will save the data for further training of models."
   ],
   "metadata": {
    "collapsed": false
   },
   "id": "cc4e9d13b1632904"
  },
  {
   "cell_type": "code",
   "execution_count": null,
   "outputs": [],
   "source": [
    "rating_df.to_csv(\"../data/raw/rating.csv\")"
   ],
   "metadata": {
    "collapsed": false,
    "ExecuteTime": {
     "end_time": "2023-11-30T17:19:59.299756Z",
     "start_time": "2023-11-30T17:19:59.295895100Z"
    }
   },
   "id": "c7a1431e5bb352da"
  },
  {
   "cell_type": "markdown",
   "source": [
    "The second graph, gives an idea of the distribution of users in the dataset. The presence of a kernel density estimate (KDE and) provides a smoothed curve on the histogram, giving an idea of the general trend of the distribution by age. This visualization helps to understand the age demographics of users."
   ],
   "metadata": {
    "collapsed": false
   },
   "id": "bb6ec0280da68a6f"
  },
  {
   "cell_type": "code",
   "execution_count": null,
   "outputs": [],
   "source": [
    "plt.figure(figsize=(10, 6))\n",
    "sns.histplot(user_df['age'], bins=30, kde=True)\n",
    "plt.title('Age Distribution of Users')\n",
    "plt.xlabel('Age')\n",
    "plt.ylabel('Count')\n",
    "plt.show()\n"
   ],
   "metadata": {
    "collapsed": false,
    "ExecuteTime": {
     "start_time": "2023-11-30T17:19:59.299756Z"
    }
   },
   "id": "2d4fd12ca43ae8e"
  },
  {
   "cell_type": "markdown",
   "source": [
    "Filter out rating_df to include only the top 20 users based on their unique user IDs. The heatmap represents the ratings given by these users to various films. The x-axis corresponds to movie views, the y-axis corresponds to user IDs, and the color intensity reflects the values of ratings. The \"cold warm\" color map is used to highlight differences in estimated values, and the mask is used to hide cells without estimates (filled with zeros)."
   ],
   "metadata": {
    "collapsed": false
   },
   "id": "7eecd23fd4d4e700"
  },
  {
   "cell_type": "code",
   "execution_count": null,
   "outputs": [],
   "source": [
    "top_50_users = sorted(rating_df['userId'].unique())\n",
    "top_50_users=top_50_users[:20]\n",
    "filtered_rating_df = rating_df[rating_df['userId'].isin(top_50_users)]\n",
    "plt.figure(figsize=(12, 8))\n",
    "heatmap_data = filtered_rating_df.pivot_table(index='userId', columns='movieId', values='rating').fillna(0)\n",
    "sns.heatmap(heatmap_data, cmap='coolwarm', mask=(heatmap_data == 0))\n",
    "plt.title('User-Movie Ratings Heatmap for Top 50 Users')\n",
    "plt.show()"
   ],
   "metadata": {
    "collapsed": false,
    "ExecuteTime": {
     "start_time": "2023-11-30T17:19:59.299756Z"
    }
   },
   "id": "301a4a6b08e083c6"
  },
  {
   "cell_type": "code",
   "execution_count": null,
   "outputs": [],
   "source": [
    "ratings_per_user = rating_df['userId'].value_counts()\n",
    "plt.figure(figsize=(12, 6))\n",
    "sns.histplot(ratings_per_user, bins=50, kde=False)\n",
    "plt.title('Number of Ratings per User')\n",
    "plt.xlabel('Number of Ratings')\n",
    "plt.ylabel('Number of Users')\n",
    "plt.show()"
   ],
   "metadata": {
    "collapsed": false,
    "ExecuteTime": {
     "start_time": "2023-11-30T17:19:59.299756Z"
    }
   },
   "id": "241526b44e50f80"
  },
  {
   "cell_type": "markdown",
   "source": [
    "Based on the last two graphs, we can conclude that the dataframe is quite scattered, there are users who have rated a lot of movies and vice versa, all users have both low and high ratings."
   ],
   "metadata": {
    "collapsed": false
   },
   "id": "a67ec983283cee52"
  },
  {
   "cell_type": "code",
   "execution_count": null,
   "outputs": [],
   "source": [
    "user_df.to_csv(\"../data/raw/users.csv\")"
   ],
   "metadata": {
    "collapsed": false,
    "ExecuteTime": {
     "start_time": "2023-11-30T17:19:59.306269500Z"
    }
   },
   "id": "3a967e2000ae6fea"
  },
  {
   "cell_type": "markdown",
   "source": [
    "## Preprocessing users data\n",
    "\n",
    "To use user demographic data in a machine learning model, we convert categorical features into numeric ones using LabelEncoder."
   ],
   "metadata": {
    "collapsed": false
   },
   "id": "65aeaabf05713ce3"
  },
  {
   "cell_type": "code",
   "execution_count": null,
   "outputs": [],
   "source": [
    "from sklearn.preprocessing import LabelEncoder, MinMaxScaler\n",
    "user_prepr = user_df\n",
    "label_encoder = LabelEncoder()\n",
    "user_prepr['sex'] = label_encoder.fit_transform(user_prepr['sex'])\n",
    "# Occupation transformation using the average value of the target attribute (in this case, age)\n",
    "profession_mapping = user_prepr.groupby('occupation')['age'].mean().to_dict()\n",
    "user_prepr['occupation'] = user_prepr['occupation'].map(profession_mapping)\n",
    "# Normalization of numeric features using Min-Max Scaling\n",
    "scaler = MinMaxScaler()\n",
    "user_prepr[['age', 'occupation']] = scaler.fit_transform(user_prepr[['age', 'occupation']])"
   ],
   "metadata": {
    "collapsed": false,
    "ExecuteTime": {
     "start_time": "2023-11-30T17:19:59.308871500Z"
    }
   },
   "id": "8eef40556e1182"
  },
  {
   "cell_type": "code",
   "execution_count": null,
   "outputs": [],
   "source": [
    "user_prepr.to_csv(\"../data/raw/preprocessed.csv\")"
   ],
   "metadata": {
    "collapsed": false,
    "ExecuteTime": {
     "start_time": "2023-11-30T17:19:59.310548400Z"
    }
   },
   "id": "567306e835a4749a"
  },
  {
   "cell_type": "code",
   "execution_count": null,
   "outputs": [],
   "source": [
    "user_prepr.head()"
   ],
   "metadata": {
    "collapsed": false,
    "ExecuteTime": {
     "start_time": "2023-11-30T17:19:59.310548400Z"
    }
   },
   "id": "f7abb0179bb0f3fb"
  },
  {
   "cell_type": "markdown",
   "source": [
    "## Movies visualization"
   ],
   "metadata": {
    "collapsed": false
   },
   "id": "dabbce4938025d38"
  },
  {
   "cell_type": "code",
   "execution_count": null,
   "outputs": [],
   "source": [
    "movie_cols = [\"movieId\", \"title\", \"release_date\", \"video_release_date\", \"IMDB_URL\", \"unknown\", \"Action\", \"Adventure\", \"Animation\", \"Children's\", \"Comedy\", \"Crime\", \"Documentary\", \"Drama\", \"Fantasy\", \"Film-Noir\", \"Horror\", \"Musical\", \"Mystery\", \"Romance\", \"Sci-Fi\", \"Thriller\", \"War\", \"Western\"]\n",
    "movie_df = pd.read_csv(\"../data/raw/ml-100k/u.item\", sep='|', names=movie_cols, encoding='latin1')\n"
   ],
   "metadata": {
    "collapsed": false,
    "ExecuteTime": {
     "start_time": "2023-11-30T17:19:59.314560700Z"
    }
   },
   "id": "1bb09ad1afa47fcd"
  },
  {
   "cell_type": "markdown",
   "source": [
    " The graph \"Top Movie Genres\" provides an overview of the content of the pilot episode, and the labels on the x and y axes (\"Quantity\" and \"Genre\", respectively) improve interpretability. This visualization effectively reflects the popularity of various genres of films based on their occurrence in the dataset."
   ],
   "metadata": {
    "collapsed": false
   },
   "id": "8820d5c16788c360"
  },
  {
   "cell_type": "code",
   "execution_count": null,
   "outputs": [],
   "source": [
    "genres = movie_cols[5:]\n",
    "genres_count = movie_df[genres].sum().sort_values(ascending=False)\n",
    "plt.figure(figsize=(12, 8))\n",
    "sns.barplot(x=genres_count.values, y=genres_count.index, hue=genres_count.index, palette='viridis', legend=False)\n",
    "plt.title('Top Movie Genres')\n",
    "plt.xlabel('Count')\n",
    "plt.ylabel('Genre')\n",
    "plt.show()"
   ],
   "metadata": {
    "collapsed": false,
    "ExecuteTime": {
     "start_time": "2023-11-30T17:19:59.314560700Z"
    }
   },
   "id": "57aaf47aaa92269a"
  },
  {
   "cell_type": "markdown",
   "source": [
    "In the future, it is not very convenient to have a large dataset with multiple columns, we will record all genres in one column via | ."
   ],
   "metadata": {
    "collapsed": false
   },
   "id": "bdaea2eb64f4a8ad"
  },
  {
   "cell_type": "code",
   "execution_count": null,
   "outputs": [],
   "source": [
    "movie = movie_df[[\"movieId\", \"title\"]].copy()\n",
    "\n",
    "genre_columns = movie_df.columns[5:]  # Assuming genres start from the 6th column\n",
    "movie[\"genres\"] = movie_df.apply(lambda row: \"|\".join(genre for genre, value in zip(genre_columns, row[5:]) if value == 1), axis=1)"
   ],
   "metadata": {
    "collapsed": false,
    "ExecuteTime": {
     "start_time": "2023-11-30T17:19:59.320658700Z"
    }
   },
   "id": "3303250db50ac41d"
  },
  {
   "cell_type": "code",
   "execution_count": null,
   "outputs": [],
   "source": [
    "movie.head()"
   ],
   "metadata": {
    "collapsed": false,
    "ExecuteTime": {
     "start_time": "2023-11-30T17:19:59.322668300Z"
    }
   },
   "id": "d2e295070a0df3a7"
  },
  {
   "cell_type": "code",
   "execution_count": null,
   "outputs": [],
   "source": [
    "movie.info()"
   ],
   "metadata": {
    "collapsed": false,
    "ExecuteTime": {
     "start_time": "2023-11-30T17:19:59.324384600Z"
    }
   },
   "id": "75812880c4b9da45"
  },
  {
   "cell_type": "code",
   "execution_count": null,
   "outputs": [],
   "source": [
    "movie.to_csv(\"../data/raw/movies.csv\")"
   ],
   "metadata": {
    "collapsed": false,
    "ExecuteTime": {
     "start_time": "2023-11-30T17:19:59.324384600Z"
    }
   },
   "id": "d5d67a8e2cfbd942"
  },
  {
   "cell_type": "markdown",
   "source": [
    "Now all the necessary data is processed and ready for use."
   ],
   "metadata": {
    "collapsed": false
   },
   "id": "5dbc12151065f203"
  }
 ],
 "metadata": {
  "kernelspec": {
   "display_name": "Python 3",
   "language": "python",
   "name": "python3"
  },
  "language_info": {
   "codemirror_mode": {
    "name": "ipython",
    "version": 2
   },
   "file_extension": ".py",
   "mimetype": "text/x-python",
   "name": "python",
   "nbconvert_exporter": "python",
   "pygments_lexer": "ipython2",
   "version": "2.7.6"
  }
 },
 "nbformat": 4,
 "nbformat_minor": 5
}
